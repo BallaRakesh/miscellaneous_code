{
 "cells": [
  {
   "cell_type": "code",
   "execution_count": 1,
   "metadata": {},
   "outputs": [],
   "source": [
    "import os \n",
    "import pandas as pd\n",
    "import json \n",
    "\n",
    "from collections import defaultdict\n",
    "\n",
    "DOC_TYPE = 'BOE'\n",
    "DATAFRAME_RESULT_PATH = f'/home/administrator/Vasu/EXTRACTION_WORK/EXTRACTION_RESULTS/{DOC_TYPE}'\n",
    "DOC_EXTRACTION_MODEL_RESULTS = f'/home/administrator/Vasu/EXTRACTION_WORK/EXTRACTION_RESULTS/{DOC_TYPE}/MODEL_RESULTS'\n",
    "DOC_EXTRACTION_POST_PROCESSING_RESULTS = f'/home/administrator/Vasu/EXTRACTION_WORK/EXTRACTION_RESULTS/{DOC_TYPE}/POST_PROCESSING_RESULTS'"
   ]
  },
  {
   "cell_type": "code",
   "execution_count": 2,
   "metadata": {},
   "outputs": [],
   "source": [
    "df = pd.DataFrame(columns=['Document_Type','Image_Name','Model_Key','Post_Processing_Key','Model_Address','Post_Processing_Country'])\n",
    "model_mapping_dict = defaultdict(set)\n",
    "postprocessing_mapping_dict = defaultdict(set)\n",
    "final_mapping_dict = defaultdict(list)\n",
    "connected_key_dict = {\n",
    "    \"drawee_bank_address\":\"drawee_bank_country\",\n",
    "    'drawee_address':\"drawee_country\",\n",
    "    'from_place':'from_place',\n",
    "    'to_place':'to_place' \n",
    "}"
   ]
  },
  {
   "cell_type": "code",
   "execution_count": 3,
   "metadata": {},
   "outputs": [
    {
     "name": "stdout",
     "output_type": "stream",
     "text": [
      "defaultdict(<class 'set'>, {'pdf16.pdf_5.png': {('BOE', 'issue_place', 'seoul , korea'), ('BOE', 'drawee_bank_address', 'sco 104-105 , district centre , sector 16 , faridabad - 121007')}, 'pdf28-16.png': {('BOE', 'drawee_address', '6-7,1 || to 1 | 8 , ellaya mudali street , tondiarpet , chennai - 600 081 india उन'), ('BOE', 'drawee_address', 'g - 7,1 / 1 to 1 / 8 , ella ya mudali street , tondiarpet , chennai - 600 081 india')}, 'pdf36_page-0004.jpg': {('BOE', 'drawee_address', 'p.o. box 29228 addis ababa ethiopia'), ('BOE', 'drawer_address', 'p.o box : 3202 a / 64b , nizamuddin east new delhi 110013 india'), ('BOE', 'drawer_bank_address', 'johannesburg airport , south africa addis ababa airport , ethiopia .'), ('BOE', 'drawee_bank_address', 'megenagna branch p.o. box 12638 addis ababa ethiopia'), ('BOE', 'drawer_bank_address', '9 - a , connaught place , new delhi - 110001 , india')}, 'pdf30-7.png': {('BOE', 'drawee_address', 's - 40 , 1 st floor , janta market , rajouri garden , new delhi 110 027 , india'), ('BOE', 'drawee_address', 's - 40 , 1st floor , janta market ...... rajouri garden , new delhi 110 027 , india'), ('BOE', 'issue_place', 'bangkok ,'), ('BOE', 'drawer_bank_address', 'chennai ( madras ) , india')}, 'pdf10-8.png': {('BOE', 'drawee_bank_address', 'srilanka global trade service unit , colombo lk .'), ('BOE', 'drawee_bank_address', 'srilanka global trade service'), ('BOE', 'drawer_bank_address', ', spencer plaza , ground floor , 749 , annasalai , chennai , tamilnadu , india ,'), ('BOE', 'drawee_address', 'd - 17 , sipcot industrial complex , gummidipoondi - 601 201 . thiruvallur dist . , tamilnadu , india'), ('BOE', 'drawee_bank_address', 'unit colombo lk')}, 'pdf34-16.png': {('BOE', 'drawee_bank_address', 'sco.9-11 sector - 9d , madhya marg , cibd chandigarh 160017 , india'), ('BOE', 'drawee_bank_address', 'sco.9-11 sector - 9d madhya marg cibd chandigarh 160017 india')}, 'pdf17.pdf_5.png': {('BOE', 'drawer_bank_address', 'singapore branch'), ('BOE', 'drawee_bank_address', '( nungambakkam branch ) chennai ( madras )'), ('BOE', 'drawee_bank_address', 'nungambakkam branch ) chennai ( madras )')}, 'pdf14.pdf_7.png': {('BOE', 'drawer_address', 'iind floor , gi - 30 , main g.t. karnal road , industrial area , delhi - 33 ( india )'), ('BOE', 'drawer_bank_address', 'delhi ( india )'), ('BOE', 'drawer_bank_address', '# 58 , dharmpala mawatha colombo 07 , sri lanka'), ('BOE', 'drawee_bank_address', '( preet vihar branch ) plot no. 14. community centre new delhi - 110092 ( india )')}, 'pdf28-15.png': {('BOE', 'issue_place', 'roermond ,'), ('BOE', 'drawee_address', 'phase - v , industrial estate plot no . 65 , sector 53 , kundli sonipat , haryana - 131 028')}, 'pdf10.pdf_7.png': {('BOE', 'drawee_bank_address', 'srilanka global trade service unit , colombo lk .'), ('BOE', 'drawer_bank_address', ', spencer plaza , ground floor , 749 , annasalai , chennai , tamilnadu , india ,'), ('BOE', 'drawee_bank_address', 'unit , colombo lk'), ('BOE', 'drawee_address', 'd - 17 , sipcot industrial complex , gummidipoondi - 601 201 . thiruvallur dist . , tamilnadu , india'), ('BOE', 'drawee_bank_address', 'srilanka , global trade service')}, 'pdf29-08.png': {('BOE', 'drawer_bank_address', 'commercial banking 9a , conn .'), ('BOE', 'drawee_bank_address', '9a . com br op , n.delhi - 1'), ('BOE', 'drawee_address', 'm2 , gupta tower , azadpur commercial , complex delhi - 110033')}, 'pdf_1_latest_8.png': {('BOE', 'drawee_bank_address', 'srilanka global trade service unit , colombo lk .'), ('BOE', 'drawee_bank_address', 'unit , colombo lk .'), ('BOE', 'drawer_bank_address', ', spencer plaza , ground floor , 749 , annasalai , chennai , tamilnadu , india ,'), ('BOE', 'drawee_address', 'd - 17 , sipcot industrial complex , gummidipoondi - 601 201 . thiruvallur dist . , tamilnadu , india'), ('BOE', 'drawee_bank_address', 'srilanka , global trade service')}, 'pdf18.pdf_5.png': {('BOE', 'drawer_bank_address', 'international business branch , 4 , india exchange place , kolkata - 700 001 kolkata , india'), ('BOE', 'drawee_address', 'p.o.box 52. , nungamugoda kelaniya srilanka .'), ('BOE', 'drawee_bank_address', 'no . 58 , dharmapala mawatha colombo 07 , srilanka'), ('BOE', 'drawer_address', '34a , metcalfe street , 3rd floor , kolkata - 700 013 , india ,'), ('BOE', 'drawer_bank_address', 'colombo , sri lanka')}, 'pdf33-6.png': {('BOE', 'drawer_bank_address', 'n.delhi 1 ct 10 indonesia'), ('BOE', 'drawer_bank_address', 'commercial banking sa , conn . place , n.d.'), ('BOE', 'drawee_bank_address', 'woor inline complex delhi - 110033'), ('BOE', 'drawee_address', 'm1 , gupta tower , azadpur commercial ,')}, 'pdf35-08.png': {('BOE', 'drawee_bank_address', 'empire house floor'), ('BOE', 'drawee_bank_address', \"tld . 2/1 ground floor popular house . ashram road ' ahmedabad gujarat - 380009 , india\"), ('BOE', 'drawee_bank_address', 'tld 2/1 ground floor . popular house ashram road ahmedabad gujarat - 380009 , india'), ('BOE', 'drawee_bank_address', 'mumbai india .'), ('BOE', 'drawee_bank_address', 'empire house floor 1'), ('BOE', 'drawee_bank_address', 'mumbai , indi')}, 'pdf24-7.png': {('BOE', 'drawee_bank_address', 'hyderabad .'), ('BOE', 'drawer_bank_address', 'level - 1 , west wing , cibd , 1-11-256 , street no. 1 , begumpet ,'), ('BOE', 'drawer_bank_address', 'hyderabad - 500 016')}, 'pdf15.pdf_11.png': {('BOE', 'drawee_bank_address', 'bangalore .'), ('BOE', 'drawee_bank_address', 'bangalore'), ('BOE', 'drawer_address', 'r.t. nagari bangalore - 560032'), ('BOE', 'drawer_bank_address', 'chennai ,'), ('BOE', 'drawee_address', 'garment export division branch code : 19 , no.63 / 9 dodda thogur village , begur hobli , bangalore - 561 229 . india')}, 'pdf13.pdf_17.png': {('BOE', 'drawer_address', 'complex ,'), ('BOE', 'drawee_bank_address', 'srilanka global trade service unit , colombo lk .'), ('BOE', 'drawer_bank_address', ', spencer plaza , ground floor , 749 , annasalai , chennai , tamilnadu , india ,'), ('BOE', 'drawee_bank_address', 'unit , colombo lk'), ('BOE', 'drawee_bank_address', 'srilanka , global trade service'), ('BOE', 'drawee_address', 'd - 17 , sipcot industrial gummidipoondi thiruvallur dist . , tamilnadu , india'), ('BOE', 'drawer_address', '- 601 201 .')}, 'pdf23-09.png': {('BOE', 'drawer_address', '1300 sw fifth avenue'), ('BOE', 'drawer_address', 'wells fargo center , suite 2929 1300 sw fifth avenue portland , or 97201'), ('BOE', 'drawee_address', '48. saajan nagar indore , 452001')}, 'pdf22_8.png': {('BOE', 'issue_place', 'korea'), ('BOE', 'drawee_address', 'e - 7 & 8 , s.g.m.nagar badkhal road faridabad ( haryana ) 121001 india')}, 'pdf31-18.png': {('BOE', 'drawee_address', 'no.6 , damu nagar , coimbatore - 641045 . india')}, 'pdf9.pdf_9.png': {('BOE', 'drawee_bank_address', '28-29 , prem heights , ajit nagar , nr leela bhawan , patiala - 147001 , punjab india'), ('BOE', 'drawer_bank_address', 'abu dhabi khalidiya branch abudhabi , uae'), ('BOE', 'drawee_address', 'vill . bhanri , maine road patiala - 147001 , punjab , india')}, 'pdf12.pdf_7.png': {('BOE', 'drawer_bank_address', 'bangkok , thailand'), ('BOE', 'drawee_bank_address', 'adress : 58 , dharmapala mawatha , colombo 07 , srilank'), ('BOE', 'drawee_bank_address', 'adress : 58 , dharmapala mawatha , colombo 07 , srilanka')}, 'pdf22-08.png': {('BOE', 'issue_place', 'korea'), ('BOE', 'drawee_address', 'e - 7 & 8 , s.g.m.nagar badkhal road faridabad ( haryana ) 121001 india')}, 'pdf37_page-0004.jpg': {('BOE', 'drawee_address', 'p.o. box 29228 addis ababa ethiopia'), ('BOE', 'drawer_address', 'p.o box : 3202 a / 64b , nizamuddin east new delhi 110013 india'), ('BOE', 'drawer_bank_address', 'johannesburg airport , south africa addis ababa airport , ethiopia .'), ('BOE', 'drawee_bank_address', 'megenagna branch p.o. box 12638 addis ababa ethiopia'), ('BOE', 'drawer_bank_address', '9 - a , connaught place , new delhi - 110001 , india')}, 'pdf11.pdf_8.png': {('BOE', 'drawer_bank_address', ', spencer plaza , ground floor , 749 , annasalai , chennai , tamilnadu , india ,'), ('BOE', 'drawee_address', 'd - 17 , sipcot industrial complex , gummidipoondi - 601 201 . thiruvallur dist . , tamilnadu , india'), ('BOE', 'drawee_bank_address', 'srilanka , global trade service unit , colombo lk .'), ('BOE', 'drawee_bank_address', 'srilanka , global trade service unit , colombo lk')}, 'pdf26-6.png': {('BOE', 'drawee_bank_address', 'hyderabad .'), ('BOE', 'drawer_bank_address', 'level - 1 , west wing , cibd , 1-11-256 , street no. 1 , begumpet , hyderabad - 500 016')}, 'pdf32-6.png': {('BOE', 'drawee_address', '15-7-476 begum bazar 500012 hyderabad india'), ('BOE', 'issue_place', 'singapore'), ('BOE', 'drawer_address', '1 harbourfront place no.06-00 harbourfront tower one . singapore 098633')}, 'pdf27-14.png': {('BOE', 'drawer_bank_address', 'commercial e , bangalore 25 .')}, 'pdf19.pdf_8.png': {('BOE', 'drawee_bank_address', 'ltd.srilanka')}, 'pdf25-6.png': {('BOE', 'drawer_bank_address', 'level - 1 , west wing , cibd , 1-11-256 , street no. 1 , begumpet ,'), ('BOE', 'drawee_bank_address', 'hyderabad .'), ('BOE', 'drawer_bank_address', 'hyderabad cibd ,'), ('BOE', 'drawer_bank_address', 'hyderabad - 500 016')}, 'pdf21-09.png': {('BOE', 'drawer_bank_address', 'new bel road , rmv 2nd stage , bangalore , india ,'), ('BOE', 'drawer_bank_address', '24 ,'), ('BOE', 'issue_place', 'bangalore , india .'), ('BOE', 'drawer_address', '# 29 , balanjaneya temple street , opp . m.s.ramaiah hospital , kge layout , r.m.v. ii stage , bangalore - 560 094. india'), ('BOE', 'drawee_bank_address', 'ssi branch , mumbai , india .')}})\n"
     ]
    }
   ],
   "source": [
    "for file in os.listdir(DOC_EXTRACTION_MODEL_RESULTS):\n",
    "    file_name = file[:-18]\n",
    "    file_path = os.path.join(DOC_EXTRACTION_MODEL_RESULTS,file)\n",
    "    with open(file_path,'r') as f:\n",
    "        try:\n",
    "            data = json.load(f)             \n",
    "            for key in data.keys():\n",
    "                page_data = data[key]\n",
    "                for page_wise_key in page_data.keys():\n",
    "                    if 'place' in page_wise_key or 'address' in page_wise_key:\n",
    "                        if page_data[page_wise_key]:\n",
    "                            potential_value_lst = page_data[page_wise_key]\n",
    "                            for lst in potential_value_lst:\n",
    "                                model_mapping_dict[file_name].add((DOC_TYPE,page_wise_key,lst[0]))\n",
    "        except json.JSONDecodeError as e:\n",
    "            print(f\"Error decoding JSON from file {file_path}: {e}\")\n",
    "print(model_mapping_dict)"
   ]
  },
  {
   "cell_type": "code",
   "execution_count": 4,
   "metadata": {},
   "outputs": [
    {
     "name": "stdout",
     "output_type": "stream",
     "text": [
      "defaultdict(<class 'set'>, {'pdf33-6.png': {('BOE', 'country_of_origin', 'INDONESIA'), ('BOE', 'drawer_bank_name', 'PT. BANK WOORI INDONESIA~ICICI IC/C/BANK LTD. BANK LIMITED'), ('BOE', 'drawee_name', 'MAHARASHTRA FEEDS PRIVATE LTD'), ('BOE', 'drawer_bank_country', 'INDONESIA')}, 'pdf9.pdf_9.png': {('BOE', 'drawee_bank_country', 'INDIA'), ('BOE', 'drawee_bank_name', 'ICICI BANK LTD'), ('BOE', 'drawer_bank_name', 'NATIONAL BANK OF'), ('BOE', 'drawee_name', 'DSG PAPER PVT. LTD'), ('BOE', 'country_of_origin', 'INDIA'), ('BOE', 'drawee_country', 'INDIA'), ('BOE', 'drawer_name', 'ZENATH')}, 'pdf10.pdf_7.png': {('BOE', 'drawer_bank_name', 'ORIENTAL BANK OF COMMERCE~LTD BANK ICICI'), ('BOE', 'drawee_bank_name', 'ICICI BANK'), ('BOE', 'country_of_origin', 'INDIA'), ('BOE', 'drawee_country', 'INDIA'), ('BOE', 'drawer_name', 'LEITNER SHRIRAM MANUFACTURING LTD.'), ('BOE', 'drawer_bank_country', 'INDIA')}, 'pdf35-08.png': {('BOE', 'drawee_bank_name', 'ICICI BANK LIMITED~ICICI BANK'), ('BOE', 'drawee_bank_country', 'INDIA'), ('BOE', 'country_of_origin', 'INDIA')}, 'pdf30-7.png': {('BOE', 'drawer_bank_name', 'BANGKOK BANK PUBLIC COMPANY LIMITED'), ('BOE', 'drawee_name', 'GLOWRIA ING~GLOWRIA INC.'), ('BOE', 'country_of_origin', 'INDIA'), ('BOE', 'drawee_country', 'INDIA'), ('BOE', 'drawer_bank_country', 'INDIA')}, 'pdf23-09.png': {('BOE', 'drawee_name', 'SHALEEN OVERSEAS'), ('BOE', 'drawer_bank_name', 'BANK OF AMERICA MERRILL LYNCH~BANK OF AMERICA')}, 'pdf22_8.png': {('BOE', 'drawee_name', 'LAXMI~LAXMI ENGINEERING WORKS'), ('BOE', 'country_of_origin', 'INDIA'), ('BOE', 'drawee_country', 'INDIA'), ('BOE', 'drawer_bank_name', '1 INDUSTRIAL BANK OF KOREA')}, 'pdf10-8.png': {('BOE', 'drawer_bank_name', 'ORIENTAL BANK OF COMMERCE'), ('BOE', 'drawee_bank_name', 'ICICI BANK'), ('BOE', 'country_of_origin', 'INDIA'), ('BOE', 'drawee_country', 'INDIA'), ('BOE', 'drawer_name', 'LEITNER SHRIRAM MANUFACTURING LTD.'), ('BOE', 'drawer_bank_country', 'INDIA')}, 'pdf22-08.png': {('BOE', 'drawee_name', 'LAXMI ENGINEERING~LAXMI ENGINEERING WORKS'), ('BOE', 'drawer_bank_name', 'INDUSTRIAL BANK OF KOREA'), ('BOE', 'country_of_origin', 'INDIA'), ('BOE', 'drawee_country', 'INDIA')}, 'pdf18.pdf_5.png': {('BOE', 'drawer_bank_country', 'INDIA SRI LANKA'), ('BOE', 'drawee_name', 'ASSOCIATED CEAT ( PVT ) LTD.'), ('BOE', 'drawer_name', 'JG~CHEMICALS~J. G. CHEMICALS PVT. LTD.'), ('BOE', 'drawee_bank_name', 'ICICI BANK'), ('BOE', 'drawer_country', 'INDIA'), ('BOE', 'country_of_origin', 'INDIA'), ('BOE', 'drawer_bank_name', 'BANK OF~BARODA')}, 'pdf37_page-0004.jpg': {('BOE', 'drawee_bank_name', 'AWASH INTERNATIONAL BANK S.C.'), ('BOE', 'country_of_origin', 'INDIA~ETHIOPIA'), ('BOE', 'drawee_country', 'ETHIOPIA'), ('BOE', 'drawer_bank_name', 'ICICI BANK~LTD'), ('BOE', 'drawer_country', 'INDIA'), ('BOE', 'drawee_bank_country', 'ETHIOPIA'), ('BOE', 'drawer_bank_country', 'SOUTH AFRICA ETHIOPIA'), ('BOE', 'drawee_name', 'GEMSHU BEYENE CONSTRUCTION PLC'), ('BOE', 'drawer_name', 'ASSOCIATES CHANDABH')}, 'pdf29-08.png': {('BOE', 'country_of_origin', 'INDONESIA'), ('BOE', 'drawer_bank_name', 'PT. BANK WOORI INISIA~ICICI BANK LTD.'), ('BOE', 'drawee_bank_name', 'CICI BANK LIMITED'), ('BOE', 'drawee_name', 'MAHARASHTRA FEEDS PRIVATE LTD.')}, 'pdf26-6.png': {('BOE', 'drawer_bank_name', 'ICICI BANK LIMITED~ICICI BANK LTD.')}, 'pdf11.pdf_8.png': {('BOE', 'drawee_bank_name', 'ICICI BANK'), ('BOE', 'country_of_origin', 'INDIA'), ('BOE', 'drawee_country', 'INDIA'), ('BOE', 'drawer_bank_name', 'ORIENTAL BANK OF COMMERCE~LTD'), ('BOE', 'drawer_name', 'LEITNER SHRIRAM MANUFACTURING LTD.'), ('BOE', 'drawer_bank_country', 'INDIA')}, 'pdf_1_latest_8.png': {('BOE', 'drawer_bank_name', 'ORIENTAL BANK OF COMMERCE~LTD BANK ICICI'), ('BOE', 'drawee_bank_name', 'ICICI BANK'), ('BOE', 'country_of_origin', 'INDIA'), ('BOE', 'drawee_country', 'INDIA'), ('BOE', 'drawer_name', 'LEITNER SHRIRAM MANUFACTURING LTD.'), ('BOE', 'drawer_bank_country', 'INDIA')}, 'pdf14.pdf_7.png': {('BOE', 'drawer_bank_country', 'SRI LANKA INDIA'), ('BOE', 'drawee_bank_country', 'INDIA'), ('BOE', 'drawer_bank_name', 'M/S. RODAA JI COMPANY~ICICI BANK LTD.'), ('BOE', 'drawee_bank_name', 'ANDHRA BANK'), ('BOE', 'drawer_name', 'RODAA JI COMPANY'), ('BOE', 'drawer_country', 'INDIA'), ('BOE', 'country_of_origin', 'INDIA')}, 'pdf13.pdf_17.png': {('BOE', 'drawer_bank_name', 'ORIENTAL BANK OF COMMERCE'), ('BOE', 'drawee_bank_name', 'ICICI BANK'), ('BOE', 'country_of_origin', 'INDIA'), ('BOE', 'drawee_country', 'INDIA'), ('BOE', 'drawer_name', 'LEITNER SHRIRAM MANUFACTURING LTD.'), ('BOE', 'drawer_bank_country', 'INDIA')}, 'pdf15.pdf_11.png': {('BOE', 'drawee_name', 'ARVIND LIMITED'), ('BOE', 'drawee_bank_name', 'ICICI BANK LTD'), ('BOE', 'country_of_origin', 'INDIA'), ('BOE', 'drawer_name', 'IDEAL FASTENER~WWW.LDEALFASTENER.COM'), ('BOE', 'drawee_country', 'INDIA'), ('BOE', 'drawer_bank_name', 'BANK OF CEYLON')}, 'pdf21-09.png': {('BOE', 'drawee_bank_country', 'INDIA'), ('BOE', 'drawer_name', 'FUTURA SURGICARE PVT LTD'), ('BOE', 'drawer_country', 'INDIA'), ('BOE', 'drawer_bank_country', 'INDIA BEL'), ('BOE', 'country_of_origin', 'INDIA'), ('BOE', 'drawer_bank_name', 'ICICI BANK'), ('BOE', 'drawee_bank_name', 'ICICI BANK LIMITED')}, 'pdf32-6.png': {('BOE', 'drawer_bank_name', 'BANK OF AMERICA MERRILL LYNCH~BANK OF AMERICA'), ('BOE', 'drawer_country', 'SINGAPORE'), ('BOE', 'country_of_origin', 'SINGAPORE'), ('BOE', 'drawee_name', 'MS VIJAYNEHA POLYMERS PVT LTD'), ('BOE', 'drawee_country', 'INDIA'), ('BOE', 'drawer_name', 'EXXONMOBIL CHEMICAL ASIA PACIFIC')}, 'pdf24-7.png': {('BOE', 'drawer_bank_name', 'ICICI BANK LIMITED~ICICI BANK LTD.')}, 'pdf36_page-0004.jpg': {('BOE', 'drawee_bank_name', 'AWASH INTERNATIONAL BANK S.C.'), ('BOE', 'country_of_origin', 'INDIA~ETHIOPIA'), ('BOE', 'drawee_country', 'ETHIOPIA'), ('BOE', 'drawer_bank_name', 'ICICI BANK~LTD'), ('BOE', 'drawer_country', 'INDIA'), ('BOE', 'drawee_bank_country', 'ETHIOPIA'), ('BOE', 'drawer_bank_country', 'SOUTH AFRICA ETHIOPIA'), ('BOE', 'drawee_name', 'GEMSHU BEYENE CONSTRUCTION PLC'), ('BOE', 'drawer_name', 'ASSOCIATES CHAND ABH')}, 'pdf31-18.png': {('BOE', 'country_of_origin', 'INDONESIA~INDIA'), ('BOE', 'drawer_bank_name', 'PT. BANK WOORI INDONESIA'), ('BOE', 'drawee_name', 'NISWIN ENTERPRISES'), ('BOE', 'drawee_country', 'INDIA')}, 'pdf16.pdf_5.png': {('BOE', 'drawee_name', 'ANIL RUBBER MILLS PVT. LTD.'), ('BOE', 'drawee_bank_name', 'ICICI BANK LIMITED~ICICI BANK LTD,~ICICI BANK LTD'), ('BOE', 'drawer_bank_name', 'KOREA DEVELOPMENT BANK')}, 'pdf28-16.png': {('BOE', 'drawee_name', 'IMPRESSION INKS PRIVATE LIMITED,~IMPRESSION INKS PRIVATE LIMITED'), ('BOE', 'country_of_origin', 'INDIA'), ('BOE', 'drawee_country', 'INDIA')}, 'pdf19.pdf_9.png': {('BOE', 'drawer_bank_name', 'CHINA CITIC BANK'), ('BOE', 'country_of_origin', 'CHINA'), ('BOE', 'drawee_bank_name', 'ICICI BANK LTD')}, 'pdf34-16.png': {('BOE', 'drawee_bank_country', 'INDIA'), ('BOE', 'country_of_origin', 'INDIA'), ('BOE', 'drawer_name', 'OXFORD INSTRUMENTS INDUSTRIAL PRODUCTS LIMITED'), ('BOE', 'drawee_bank_name', 'ICICI BANK LIMITED')}, 'pdf28-15.png': {('BOE', 'country_of_origin', 'INDIA'), ('BOE', 'drawer_name', 'WISSELBRIEF'), ('BOE', 'drawee_name', 'MAT BRAKES INDIA PVT. LTD.')}, 'pdf19.pdf_8.png': {('BOE', 'country_of_origin', 'CHINA'), ('BOE', 'drawer_bank_name', 'CHINA CITIC BANK'), ('BOE', 'drawee_bank_name', 'ICICI BANK')}, 'pdf12.pdf_7.png': {('BOE', 'country_of_origin', 'THAILAND'), ('BOE', 'drawee_bank_name', 'ICICI BANK LTD'), ('BOE', 'drawer_bank_name', 'BANK OF AYUDHYA PUBLIC COMPANY LIMITED.~BANK OF AYUDHYA PUBLIC COMPANY LIMITED'), ('BOE', 'drawer_bank_country', 'THAILAND')}, 'pdf27-14.png': {('BOE', 'drawer_bank_name', 'SHINHAN BANK~ICICI BANK LTD.'), ('BOE', 'drawer_name', 'ABB LIMITED'), ('BOE', 'country_of_origin', 'INDIA'), ('BOE', 'drawee_name', 'ABB LIMITED')}, 'pdf17.pdf_5.png': {('BOE', 'country_of_origin', 'SINGAPORE'), ('BOE', 'drawee_bank_name', 'ICICI BANK LIMITED,~ICICI BANK LIMITED'), ('BOE', 'drawer_bank_name', 'MIZUHO CORPORATE BANK, LTD.,~ICICI BANK LIMITED'), ('BOE', 'drawer_name', 'SRF LIMITED'), ('BOE', 'drawer_bank_country', 'SINGAPORE')}, 'pdf25-6.png': {('BOE', 'drawee_bank_name', 'BANK ICICI'), ('BOE', 'drawer_bank_name', 'LTD. BANK ICICI~ICICI BANK LTD.')}})\n"
     ]
    }
   ],
   "source": [
    "for file in os.listdir(DOC_EXTRACTION_POST_PROCESSING_RESULTS):\n",
    "    file_name = file[:-28]\n",
    "    file_path = os.path.join(DOC_EXTRACTION_POST_PROCESSING_RESULTS,file)\n",
    "    with open(file_path,'r') as f:\n",
    "        try:\n",
    "            data = json.load(f)\n",
    "            for key in data['keys_extraction'].keys():\n",
    "                if 'country' in key or 'name' in key:\n",
    "                    if data['keys_extraction'][key] and 'value' in  data['keys_extraction'][key].keys():\n",
    "                        if data['keys_extraction'][key]['value'] != '':\n",
    "                            postprocessing_mapping_dict[file_name].add((DOC_TYPE,key,data['keys_extraction'][key]['value']))\n",
    "        except json.JSONDecodeError as e:\n",
    "            print(f\"Error decoding JSON from file {file_path}: {e}\")\n",
    "print(postprocessing_mapping_dict)"
   ]
  },
  {
   "cell_type": "code",
   "execution_count": 5,
   "metadata": {},
   "outputs": [],
   "source": [
    "visited_keys = set()\n",
    "for key in model_mapping_dict.keys():\n",
    "    model_set = model_mapping_dict[key]\n",
    "    for document_type, field_key, value in model_set:\n",
    "        if field_key in connected_key_dict.keys():\n",
    "            post_processing_set = postprocessing_mapping_dict[key]\n",
    "            target_key = connected_key_dict[field_key]         \n",
    "            found = False\n",
    "            for elem in post_processing_set:\n",
    "                if elem[1] == target_key:\n",
    "                    final_mapping_dict[key].append((document_type, key, field_key, elem[1], value, elem[2]))\n",
    "                    found = True\n",
    "                    visited_keys.add(target_key)\n",
    "                    break \n",
    "            if not found:\n",
    "                final_mapping_dict[key].append((document_type, key, field_key, '', value, ''))\n",
    "        else:\n",
    "            final_mapping_dict[key].append((document_type, key, field_key, '', value, ''))\n",
    "\n",
    "for key in postprocessing_mapping_dict.keys():\n",
    "    post_processing_set = postprocessing_mapping_dict[key]\n",
    "    for document_type, field_key, value in post_processing_set:\n",
    "        if field_key not in visited_keys and field_key in connected_key_dict.values():\n",
    "            final_mapping_dict[key].append((document_type, key, '', field_key, '', value))"
   ]
  },
  {
   "cell_type": "code",
   "execution_count": 6,
   "metadata": {},
   "outputs": [],
   "source": [
    "rows = []\n",
    "for key in final_mapping_dict.keys():\n",
    "    result = final_mapping_dict[key]\n",
    "    for res in result:\n",
    "        document_type,key,model_key,post_processing_key,model_value,post_processing_value = res\n",
    "        rows.append({\n",
    "            'Document_Type':document_type,\n",
    "            'Image_Name':key,\n",
    "            'Model_Key':model_key,\n",
    "            'Post_Processing_Key':post_processing_key,\n",
    "            'Model_Address':model_value,\n",
    "            'Post_Processing_Country':post_processing_value\n",
    "        })\n",
    "df = pd.concat([df, pd.DataFrame(rows)], ignore_index=True)\n",
    "df.drop_duplicates()\n",
    "csv_path = DATAFRAME_RESULT_PATH + f'/{DOC_TYPE}_Countries.csv'\n",
    "df.to_csv(csv_path)"
   ]
  }
 ],
 "metadata": {
  "kernelspec": {
   "display_name": "TradeEnv",
   "language": "python",
   "name": "python3"
  },
  "language_info": {
   "codemirror_mode": {
    "name": "ipython",
    "version": 3
   },
   "file_extension": ".py",
   "mimetype": "text/x-python",
   "name": "python",
   "nbconvert_exporter": "python",
   "pygments_lexer": "ipython3",
   "version": "3.8.10"
  }
 },
 "nbformat": 4,
 "nbformat_minor": 2
}
